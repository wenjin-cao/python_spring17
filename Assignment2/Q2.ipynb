{
 "cells": [
  {
   "cell_type": "markdown",
   "metadata": {},
   "source": [
    "## Q2\n",
    "### Part 1\n",
    "### Create a folder structure to read all these json files and store them into these separate folders. You are expected to create a hierarchy of folder structure.\n",
    "How you group the json files and create a folder structure is your choice. \n",
    "Your task is to identify criteria by which you can group all these json files and store them.\n",
    "You could use these keys to create hierarchy and store json files: Country, city, categories"
   ]
  },
  {
   "cell_type": "code",
   "execution_count": 1,
   "metadata": {
    "collapsed": false
   },
   "outputs": [],
   "source": [
    "import glob\n",
    "jsonfiles = glob.glob('Data/*')"
   ]
  },
  {
   "cell_type": "code",
   "execution_count": 2,
   "metadata": {
    "collapsed": false
   },
   "outputs": [],
   "source": [
    "def constructfolders(files):\n",
    "    for file in files:\n",
    "        with open(file) as data_file:\n",
    "            import json\n",
    "            import os\n",
    "            data = json.load(data_file)\n",
    "            country = data['location']['country']\n",
    "            term = data['term']\n",
    "            # Create a hierachy in folder 'DataProcessed' by keys 'country' and 'term'\n",
    "            try:\n",
    "                os.makedirs('DataProcessed/' + country + '/' + term)\n",
    "            except OSError:\n",
    "                pass\n",
    "            # Get the file name through the path\n",
    "            filename = file[5:]\n",
    "            # Copy files from the folder 'Data' to the folder 'DataProcessed'\n",
    "            from shutil import copyfile            \n",
    "            copyfile(file, 'DataProcessed/' + country + '/' + term + '/' + filename)\n",
    "            #os.rename(file,'Q2/' + country + '/' + term + '/' + filename)"
   ]
  },
  {
   "cell_type": "code",
   "execution_count": 3,
   "metadata": {
    "collapsed": false
   },
   "outputs": [],
   "source": [
    "constructfolders(jsonfiles)"
   ]
  },
  {
   "cell_type": "markdown",
   "metadata": {
    "collapsed": true
   },
   "source": [
    "### Part 2\n",
    "### Read only the json files which contain the key called “restaurants”\n"
   ]
  },
  {
   "cell_type": "code",
   "execution_count": 4,
   "metadata": {
    "collapsed": false
   },
   "outputs": [],
   "source": [
    "import csv\n",
    "# Write data of restaurants to the file 'Q2_2.csv' \n",
    "with open('Q2_2.csv','w') as newfile:\n",
    "    writer = csv.writer(newfile, delimiter=',')\n",
    "    writer.writerow(['RESTAURANT', 'CITY', 'COUNTRY', 'WEEK', 'START(h)', 'START(m)', 'END(h)', 'END(m)'])\n",
    "    \n",
    "    # Loop through all json files\n",
    "    for file in jsonfiles:\n",
    "        with open(file) as data_file:\n",
    "            import json\n",
    "            data = json.load(data_file)\n",
    "            term = data['term']\n",
    "            # If it's a restaurant, write the data into the csv file\n",
    "            if term == 'restaurants':\n",
    "                name = data['name']\n",
    "                country = data['location']['country']\n",
    "                city = data['location']['city']\n",
    "                try:\n",
    "                    weeks = data['hours'][0]['open']\n",
    "                except:\n",
    "                    continue\n",
    "                for days in weeks:\n",
    "                    day = days['day']\n",
    "                    start_h = days['start'][0:2]\n",
    "                    start_m = days['start'][2:4]\n",
    "                    end_h = days['end'][0:2]\n",
    "                    end_m = days['end'][2:4]\n",
    "                    writer.writerow([name, city, country, day, start_h, start_m, end_h, end_m])"
   ]
  },
  {
   "cell_type": "code",
   "execution_count": null,
   "metadata": {
    "collapsed": true
   },
   "outputs": [],
   "source": []
  },
  {
   "cell_type": "code",
   "execution_count": null,
   "metadata": {
    "collapsed": true
   },
   "outputs": [],
   "source": []
  },
  {
   "cell_type": "code",
   "execution_count": null,
   "metadata": {
    "collapsed": true
   },
   "outputs": [],
   "source": []
  }
 ],
 "metadata": {
  "kernelspec": {
   "display_name": "Python 3",
   "language": "python",
   "name": "python3"
  },
  "language_info": {
   "codemirror_mode": {
    "name": "ipython",
    "version": 3
   },
   "file_extension": ".py",
   "mimetype": "text/x-python",
   "name": "python",
   "nbconvert_exporter": "python",
   "pygments_lexer": "ipython3",
   "version": "3.5.2"
  }
 },
 "nbformat": 4,
 "nbformat_minor": 0
}

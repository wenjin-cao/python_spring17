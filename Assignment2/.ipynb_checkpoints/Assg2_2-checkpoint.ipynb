{
 "cells": [
  {
   "cell_type": "markdown",
   "metadata": {},
   "source": [
    "## Q2\n",
    "### Part 1\n",
    "### Create a folder structure to read all these json files and store them into these separate folders. You are expected to create a hierarchy of folder structure.\n",
    "How you group the json files and create a folder structure is your choice. \n",
    "Your task is to identify criteria by which you can group all these json files and store them.\n",
    "You could use these keys to create hierarchy and store json files: Country, city, categories"
   ]
  },
  {
   "cell_type": "code",
   "execution_count": 1,
   "metadata": {
    "collapsed": false
   },
   "outputs": [],
   "source": [
    "import glob\n",
    "jsonfiles = glob.glob('Data/*')"
   ]
  },
  {
   "cell_type": "code",
   "execution_count": null,
   "metadata": {
    "collapsed": false
   },
   "outputs": [],
   "source": []
  },
  {
   "cell_type": "code",
   "execution_count": 21,
   "metadata": {
    "collapsed": false
   },
   "outputs": [
    {
     "data": {
      "text/plain": [
       "{'attractions', 'hotels', 'restaurants'}"
      ]
     },
     "execution_count": 21,
     "metadata": {},
     "output_type": "execute_result"
    }
   ],
   "source": [
    "def findkeys(files):\n",
    "    countries = set()\n",
    "    terms = set()\n",
    "    for file in files:\n",
    "        with open(file) as data_file:\n",
    "            import json\n",
    "            data = json.load(data_file)\n",
    "            country = data['location']['country']\n",
    "            countries.add(country)\n",
    "            term = data['term']\n",
    "            terms.add(term)\n",
    "            \n",
    "            try:\n",
    "                os.makedirs('Q2/' + country + '/' + term)\n",
    "            except OSError:\n",
    "                continue\n",
    "                \n",
    "            os.rename(file,'Q2/' + country + '/' + term)\n",
    "            \n",
    "    return countries,terms\n",
    "countries = findkeys(jsonfiles)[0]\n",
    "terms = findkeys(jsonfiles)[1]\n",
    "countries   \n",
    "terms"
   ]
  },
  {
   "cell_type": "code",
   "execution_count": 20,
   "metadata": {
    "collapsed": false
   },
   "outputs": [],
   "source": [
    "import os\n",
    "for country in countries:\n",
    "    for term in terms:\n",
    "        try:\n",
    "            os.makedirs('Q2/' + country + '/' + term)\n",
    "        except OSError:\n",
    "            continue\n",
    "forl ifle in files:\n",
    "    with open(file) as data_file:\n",
    "        os.rename(,)"
   ]
  },
  {
   "cell_type": "code",
   "execution_count": null,
   "metadata": {
    "collapsed": false
   },
   "outputs": [],
   "source": [
    "def findterms(files):\n",
    "    for file in files:\n",
    "        with open(file) as data_file:\n",
    "            import json\n",
    "            data = json.load(data_file)\n",
    "            country = data['location']['country']\n",
    "            city = data['location']['city']\n",
    "            countries.add(country)\n",
    "    return countries    \n",
    "    \n",
    "                    "
   ]
  },
  {
   "cell_type": "code",
   "execution_count": null,
   "metadata": {
    "collapsed": true
   },
   "outputs": [],
   "source": []
  },
  {
   "cell_type": "code",
   "execution_count": 10,
   "metadata": {
    "collapsed": false
   },
   "outputs": [],
   "source": []
  },
  {
   "cell_type": "code",
   "execution_count": null,
   "metadata": {
    "collapsed": true
   },
   "outputs": [],
   "source": []
  },
  {
   "cell_type": "code",
   "execution_count": null,
   "metadata": {
    "collapsed": true
   },
   "outputs": [],
   "source": []
  },
  {
   "cell_type": "markdown",
   "metadata": {
    "collapsed": true
   },
   "source": [
    "### Part 2\n",
    "### Read only the json files which contain the key called “restaurants”\n"
   ]
  },
  {
   "cell_type": "code",
   "execution_count": null,
   "metadata": {
    "collapsed": true
   },
   "outputs": [],
   "source": []
  }
 ],
 "metadata": {
  "kernelspec": {
   "display_name": "Python 3",
   "language": "python",
   "name": "python3"
  },
  "language_info": {
   "codemirror_mode": {
    "name": "ipython",
    "version": 3
   },
   "file_extension": ".py",
   "mimetype": "text/x-python",
   "name": "python",
   "nbconvert_exporter": "python",
   "pygments_lexer": "ipython3",
   "version": "3.5.2"
  }
 },
 "nbformat": 4,
 "nbformat_minor": 0
}

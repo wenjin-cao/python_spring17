{
 "cells": [
  {
   "cell_type": "markdown",
   "metadata": {},
   "source": [
    "## Q1\n",
    "### Pick a file in NLTK package and prove if Zipf’s Law works in Natural Language or not.\n",
    "REQUIREMNTS: (Must Do)\n",
    " Use ’glob’ to open and read file. If read multiple files use LOOP to achieve.\n",
    " Create at least one function and one lambda function.\n",
    " Save your data as an CSV file contains (Word, Rank, Frequency) with TITLE and Sort it by RANK.  Open your CSV file, generate a log-log figure according to the data you saved.\n",
    " Write a conclusion at the end of your code base on your figure."
   ]
  },
  {
   "cell_type": "code",
   "execution_count": 1,
   "metadata": {
    "collapsed": false
   },
   "outputs": [],
   "source": [
    "from nltk.corpus import gutenberg\n",
    "#print(gutenberg.fileids())"
   ]
  },
  {
   "cell_type": "code",
   "execution_count": null,
   "metadata": {
    "collapsed": false
   },
   "outputs": [],
   "source": [
    "#  Count each token in each text of the Gutenberg collection\n",
    "from nltk.probability import FreqDist\n",
    "fd = FreqDist()\n",
    "for word in gutenberg.words('shakespeare-hamlet.txt'):\n",
    "    fd[word] += 1 \n",
    "sortedfd = sorted(fd.items(), key=lambda item: item[1], reverse = True)\n",
    "sortedfd[:10]"
   ]
  },
  {
   "cell_type": "code",
   "execution_count": null,
   "metadata": {
    "collapsed": false
   },
   "outputs": [],
   "source": [
    "#  Save the rank and frequency of the words into file 'Q1.csv'\n",
    "def savedata(file): \n",
    "    import csv\n",
    "    with open(file, 'w') as csvfile:\n",
    "        writer = csv.writer(csvfile, delimiter=' ', quotechar='|', quoting=csv.QUOTE_MINIMAL)\n",
    "        writer.writerow(['WORD', 'RANK', 'FREQUENCY'])\n",
    "        for rank, word in enumerate(sortedfd):\n",
    "            writer.writerow([word[0], rank + 1, sortedfd[rank][1]])\n",
    "savedata('Q1.csv')"
   ]
  },
  {
   "cell_type": "code",
   "execution_count": null,
   "metadata": {
    "collapsed": false
   },
   "outputs": [],
   "source": [
    "#  Read from the csv file using glob\n",
    "ranks = []\n",
    "freqs = []\n",
    "def readfile(file):\n",
    "    import glob\n",
    "    for name in glob.glob(file):\n",
    "        import csv\n",
    "        with open(name, 'r') as csvfile:\n",
    "            reader = csv.reader(csvfile, delimiter=' ', quotechar='|')\n",
    "            for row in reader:\n",
    "                try:\n",
    "                    ranks.append(int(row[1]))\n",
    "                    freqs.append(int(row[2]))\n",
    "                except ValueError:\n",
    "                    #print(\"Ignore title when reading file\")\n",
    "                    pass\n",
    "    #return [ranks,freqs]\n",
    "readfile('Q1.csv')"
   ]
  },
  {
   "cell_type": "code",
   "execution_count": null,
   "metadata": {
    "collapsed": false
   },
   "outputs": [],
   "source": [
    "#  Generate a loglog plot.\n",
    "# I run the cells overnight but still couldn't a result :/\n",
    "def logplot(x,y):\n",
    "    import matplotlib.pyplot as plt\n",
    "    plt.loglog(x, y)\n",
    "    plt.xlabel('frequency(f)', fontsize=14, fontweight='bold')\n",
    "    plt.ylabel('rank(r)', fontsize=14, fontweight='bold')\n",
    "    plt.grid(True)\n",
    "    plt.show()\n",
    "logplot(ranks, freqs)"
   ]
  },
  {
   "cell_type": "markdown",
   "metadata": {
    "collapsed": false
   },
   "source": [
    "## Conclusion\n",
    "### Zipf's Law : Given some corpus of natural language utterances, the frequency of any word is inversely proportional to its rank in the frequency table. Thus the most frequent word will occur approximately twice as often as the second most frequent word, three times as often as the third most frequent word, etc.\n",
    "### As far as I can see from the csv file, the law does work. "
   ]
  },
  {
   "cell_type": "code",
   "execution_count": null,
   "metadata": {
    "collapsed": true
   },
   "outputs": [],
   "source": []
  }
 ],
 "metadata": {
  "kernelspec": {
   "display_name": "Python 3",
   "language": "python",
   "name": "python3"
  },
  "language_info": {
   "codemirror_mode": {
    "name": "ipython",
    "version": 3
   },
   "file_extension": ".py",
   "mimetype": "text/x-python",
   "name": "python",
   "nbconvert_exporter": "python",
   "pygments_lexer": "ipython3",
   "version": "3.5.2"
  }
 },
 "nbformat": 4,
 "nbformat_minor": 0
}

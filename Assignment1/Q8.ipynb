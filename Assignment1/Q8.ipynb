{
 "cells": [
  {
   "cell_type": "markdown",
   "metadata": {},
   "source": [
    "# Question 8\n",
    "* Find out how many unusual words people speak in chat (notice: usernames should not be counted)\n",
    "* Bonus: What if I want to  count : ) , : ( all these emoticons in. (optional)"
   ]
  },
  {
   "cell_type": "code",
   "execution_count": 1,
   "metadata": {
    "collapsed": false,
    "scrolled": true
   },
   "outputs": [],
   "source": [
    "from nltk.corpus import nps_chat, words\n",
    "#words.words()"
   ]
  },
  {
   "cell_type": "code",
   "execution_count": 2,
   "metadata": {
    "collapsed": false
   },
   "outputs": [],
   "source": [
    "#print(nps_chat.raw('10-19-20s_706posts.xml'))"
   ]
  },
  {
   "cell_type": "markdown",
   "metadata": {},
   "source": [
    "### Get the text content in the nps_chat posts"
   ]
  },
  {
   "cell_type": "code",
   "execution_count": 4,
   "metadata": {
    "collapsed": false
   },
   "outputs": [],
   "source": [
    "posts = nps_chat.xml_posts() # Get all posts content from all nps files.\n",
    "postctnt = [] # Get the text content in the posts\n",
    "for post in posts:\n",
    "    txt = post.text\n",
    "    postctnt.append(txt)\n",
    "\n",
    "postctnt_str = ' '.join(postctnt).lower()\n",
    "import re\n",
    "postctnt_words = re.sub(\"[^\\w]\", \" \", postctnt_str).split() \n",
    "postwords = set(postctnt_words) # Get all the unique words in the posts\n",
    "#print('Here are the words from ups_chat posts:', postwords)"
   ]
  },
  {
   "cell_type": "code",
   "execution_count": null,
   "metadata": {
    "collapsed": true
   },
   "outputs": [],
   "source": [
    "# Compare and put all the unusual words in a list\n",
    "unusualword = []\n",
    "for word in postctnt_words:\n",
    "    if word not in words.words():\n",
    "        unusualword.append(word)\n",
    "print('Here are the unusual words used in the posts:', unusualword)"
   ]
  },
  {
   "cell_type": "markdown",
   "metadata": {},
   "source": [
    "### Get the text of the posts with attribute ' class=\"Emotion\" '"
   ]
  },
  {
   "cell_type": "code",
   "execution_count": 5,
   "metadata": {
    "collapsed": false
   },
   "outputs": [
    {
     "name": "stdout",
     "output_type": "stream",
     "text": [
      "Here are the emotions from the posts: [':P', ':)', 'boo.', 'lol 10-19-20sUser115', 'boo.', 'boo.', 'ewwwww lol', 'heeeey!', ':)', 'haha', 'opps', 'yeee haw 10-19-20sUser30', 'HAHAHA', 'lmao', ':)', 'lol 10-19-20sUser7', 'OOooOO:)', 'lmaoo 10-19-20sUser121', 'lmao!!!', 'omg', 'yay!', 'geeshhh', 'lol 10-19-20sUser6', 'lol 10-19-20sUser121!!!', 'lol', 'lmao 10-19-20sUser7!!!', ':)', 'lolololll serg!!!', 'lol', 'lmao', 'awwwwww', ':(', 'lol', 'i hate you.', 'ahahah 10-19-20sUser7!!', 'Lmfao', 'wouldnt let her date', 'aww.', 'lol 10-19-20sUser83', 'woohoo!', 'lol', 'lmao', 'LOL', 'lol 10-19-20sUser7', 'hahah 10-19-20sUser83!', 'lol 10-19-20sUser7', 'lmaoooo', 'Aw, man.', 'lol', 'lol 10-19-20sUser121', 'lmaooo 10-19-20sUser92!!!!!!', 'ewwww', 'lol *sniffs*', 'ewwwwww', '10-19-20sUser115!', 'ughhh', 'Lmfao 10-19-20sUser121', 'lol 10-19-20sUser115', 'lol @ innocent', 'hahah', 'lol....', 'LOLOLOLLL 10-19-20sUser12', 'Lmfao', 'lmao ', ':-o', ':)', 'Lol', 'lol', 'lmao', 'lol', 'LOL', 'hahaha', 'lol', 'lool', 'lol', 'hahah@baby', ':-o', 'dang 10-19-20sUser30', 'ok lol', 'aw yum', 'lol', ':P', 'lmaoo 10-19-20sUser7', 'haha', ' >:-> ', 'geeshh', 'hehehe', 'woohoo paypal', 'lol', 'hahah 10-19-20sUser121', 'lmao 10-19-20sUser83', ':P', 'lol 10-19-20sUser7', 'lol 10-19-20sUser115...', 'lmao 10-19-20sUser7', 'hehe', '10-19-30sUser11 lol', 'lol 10-19-30sUser11', 'lol', 'hehe', 'lol', 'hehe', 'lmao 10-19-30sUser2', 'mauh!!!!!!!!!!!!!!!!', 'lmao', 'lmao 10-19-30sUser18', 'lol', 'lol', 'oh ny gosh', 'lol 10-19-30sUser18', 'lol', 'lol 10-19-30sUser19', 'wooooohoooo', 'ha', 'lmao 10-19-30sUser19', ' :-) ', 'damn 10-19-30sUser17... ', 'lol', ' ;-) ', 'lol', 'lmao... wow... ', 'lol', 'lmao 10-19-30sUser17', 'lol', 'oppsss lol ', 'lol 10-19-30sUser25... wb', 'lol', 'lol 10-19-30sUser25', 'ooopppps', 'lmao 10-19-30sUser17', ' :-) ', 'lol', 'lol ', 'lol 10-19-30sUser17', 'LOL ', ':)', 'whew ', 'lol 10-19-30sUser31 ', 'lol 10-19-30sUser31... A++', 'LOL ', ' :-) ', 'LOL', 'oh my', 'lol 10-19-30sUser31... go figure', 'LOL ', 'lmao 10-19-30sUser17... dman', 'LOL ', 'LOL', 'lol 10-19-30sUser28 ', ' :-) ', 'lol 10-19-30sUser3 .... :)', 'lmao 10-19-30sUser25', 'lol right there 10-19-30sUser28 lol ', ' :blush: ', 'lol 10-19-30sUser28', 'lol', ' :blush: ', 'lol 10-19-30sUser31 ', 'oh for crying out loud', 'oh joy', ' :tongue: ', 'lmao 10-19-30sUser17', 'LOL', 'WEEEEEEEEEEEEEEEEEE!!!!!!!!!!!!!!!!!!!!!!!', 'LMAO @ 80 ', 'lol', 'lol', 'lol 10-19-40sUser9', 'lol', 'lol 10-19-40sUser4', 'lol 10-19-40sUser18', 'weeeeeeeee thanks 10-19-40sUser19!', 'lol 10-19-40sUser9', 'yawns....', 'ouch..10-19-40sUser20', 'lol', 'lol....', 'eeek', 'lol', 'lol', 'lol', 'heee', 'lol 10-19-40sUser20', 'fock', 'oh no 10-19-40sUser34', 'lol', 'lol', 'kold....lol', 'lol 10-19-40sUser11', 'chuckle 10-19-40sUser20', 'lol', 'god this grrrrrrrrr', 'amazing lol', 'lol', ';-)', '((((((((((10-19-40sUser34))))))))))', 'ouch 10-19-40sUser34', 'lol', 'lol 10-19-40sUser35, 10-19-40sUser30', 'lol', 'awwwwwwwwww hugs 10-19-40sUser19', 'rolls her eyes @ 10-19-40sUser9', 'lol', 'lol', 'lol', 'lol', '((((((((((10-19-40sUser42))))))))))', 'lol 10-19-40sUser3', 'lol 10-19-40sUser9', 'lol', 'lol 10-19-40sUser9', 'lol 10-19-40sUser25', 'lol ', '10-19-40sUser18 hugsssss :)', 'lol', 'l', 'Hugs for you 10-19-40sUser52', 'wb ((((10-19-40sUser24))))', 'oh Lord', 'lol', 'lol ', 'lol 10-19-40sUser3', 'lol 10-19-40sUser3', 'lol 10-19-40sUser3', 'lol 10-19-40sUser9', 'Yikes', 'lol 10-19-40sUser3', ' ;-) ', 'lol', 'lol 10-19-40sUser9', 'cripos', 'lol', 'lol', 'lol', '+*+*+*+* ...for you 10-19-40sUser34 :)', 'lol', ' :)', 'whooo hooo', 'great to hear 10-19-adultsUser16 ', '10-19-adultsUser520, 10-19-adultsUser32. .LoL', ':)', 'LoL', 'lol 10-19-adultsUser36', ':)', 'lol', 'lmao 10-19-adultsUser23', 'rotflmao ', 'lmao', 'ha ha ha 10-19-adultsUser23!!!', 'lol', 'lol', 'lmao 10-19-adultsUser35', 'lol', 'Awww @ 10-19-adultsUser1', 'sry 10-19-adultsUser1 lol', 'LOL 10-19-adultsUser34', ' ;-) ', 'lol', ';)', 'LOL @ moped   ', 'LoL', 'hehe 10-19-adultsUser16 :)', 'lol', 'damn', '((((((((((((((((((((( 10-19-adultsUser47 sis )))))))))))))))))))))', '10-19-adultsUser19 hugs', '10-19-adultsUser47 huuuuuuuuuuuuuuuuuuuuuuuuuuuuuuuuuuugZ', '(((((((((( 10-19-adultsUser1 sis ))))))))))))))', '(((((((((( 10-19-adultsUser35 )))))))))))))', 'lol', 'lol', '(((((((((( 10-19-adultsUser28 )))))))))))))', '(((((((((( 10-19-adultsUser47 )))))))))))))))', '((((((((((( 10-19-adultsUser23 ))))))))))))))', 'LOL 10-19-adultsUser36 !!!!!', 'lol', 'hes hawt too', 'lol', 'LMAO Randy', '*hugs everyone...lol', 'wahoooooooski', 'haha', '(((((((( 10-19-adultsUser35 )))))))))))', '(((((((( 10-19-adultsUser16 ))))))))))', '((((((((( 10-19-adultsUser32 )))))))))))', ':P', 'pfft', 'sigh', 'lol', 'LMAO 10-19-adultsUser47', 'lol', ':)', 'Rofl 10-19-adultsUser32', 'lol', 'lmao', 'lol', 'lmao 10-19-adultsUser37     dang   ', 'lol', 'omg lol 10-19-adultsUser50', 'LoL', 'hah', 'LoL 10-19-adultsUser32', 'lol', 'woof', 'sheesh', 'damn', 'lol', ':)', 'omg 10-19-adultsUser28 !!!   whoaaaaaaaaaaaa', 'well ....    ~blusherZ~', 'brrrrrrr', 'LOL 10-19-adultsUser35', 'tell him how u really feel 10-19-adultsUser35 ;)', 'hahah 10-19-adultsUser28', 'Oh my 10-19-adultsUser15. .LoL', 'lmao', ';-)', 'lmao', 'LOL 10-19-adultsUser23 ', 'lol', 'dang', 'LOL 10-19-adultsUser28', 'o_0', 'LOL', 'LoL yep!', 'lol ', 'lmao', 'argh', 'omg', 'lmao', 'lol', 'lol', 'gawd', ']:)', 'haha', 'lol 10-19-adultsUser47', 'lol', 'lol 10-19-adultsUser47', 'LOL', ':)', 'LoL', '  yawns......', 'funny :)', 'lol 10-19-adultsUser47', 'lol', 'lol', 'lol 10-19-adultsUser28', 'lmao', 'lol 10-19-adultsUser47', 'yawnssss......', 'yikes 10-24-40sUser28', ' ;-) ', '(((10-24-40sUser11)))', '((((((((((((((((((((10-24-40sUser34)))))))))))))))))))', '((((((((((((((((((10-24-40sUser33)))))))))))))))))))', '(((((((((((((((((10-24-40sUser35)))))))))))))))))))))', 'lmao, 10-24-40sUser21', 'hehehehe 10-24-40sUser21', 'lol', 'lol ', 'lmao ', 'haha', 'lol', 'oh okies nawp aint seen her lol', 'hehehehe', 'lmao', '((((((((((((((((((((10-24-40sUser34_)))))))))))))))))))))))))))))))', 'lol 10-24-40sUser6', '((((((((((((((((((((((((((10-24-40sUser39)))))))))))))))))))))', 'hugsssssssss', 'hello10-24-40sUser20', 'hahaha', 'lol lol ', 'lol, 10-24-40sUser33', 'out in the woods, i hear dueling banjoes lol', 'lmao 10-24-40sUser16', 'lol 10-24-40sUser41', 'lol', 'lmao ', 'lol 10-24-40sUser34', 'lol', 'yay', 'lol', 'lol 10-24-40sUser6', 'lmao 10-24-40sUser41', '10-24-40sUser19 hahhahahaha', 'eeeek', 'lol 10-24-40sUser16', 'lol', 'lmao ', 'lol', 'omg', 'has to go for my homeboys 10-24-40sUser34 lol', 'haha', 'damn', '(((10-24-40sUser34))))', 'lol 10-24-40sUser41', ' ;-) ', 'lol, god so confused', 'lol 10-24-40sUser41', 'lmao', 'lol ', 'lol', 'sheesh', 'lol 10-24-40sUser16', ';) 10-24-40sUser19', 'lol', 'lmao 10-24-40sUser13', 'heya 10-24-40sUser14!', '(((((((((((((((10-24-40sUser52)))))))))))))))))))', 'lol', 'lol 10-24-40sUser19', 'lol', 'lmao 10-24-40sUser13', ' :-) ', 'hehehehe 10-24-40sUser3', ':)', ':) 10-24-40sUser19', 'lol', 'lol', ' :-) ', 'grrrrrrrrrrrrrrrrr', 'whoo hooooo', ' :-) ', 'lol', 'yikesssss', 'lmao@10-24-40sUser53', 'lol', ' ;-) ', 'lmao', 'wow 10-24-40sUser3', 'lol', 'lol pay', 'lol, 10-24-40sUser50', 'lol', 'uffff', 'lol 10-24-40sUser13', 'hugs 10-24-40sUser6', '(((((((((((((((((10-24-40sUser57))))))))))))))))))))))', 'lol', 'lol', 'lol', 'Same here', 'haha', 'lol', 'haaa.', 'lol', 'lol', ' ;-) ', 'lol opps', 'lol', ';]', 'Bwhaha', 'heh', 'That happens alot', 'lol', 'lol', 'lol', 'hes cool too', 'lol', 'lol', 'lol', 'lol', 'lol', ':)', 'haha.', 'awwww', 'Lol', ':o *', '=O', 'lol', ' :-o ', 'lol', 'aww', 'pffft', 'haha ;)', '(((((((((( 11-06-adultsUser99 )))))))))))', 'MUAH!!!!!', 'oops ', 'eww', 'haha 11-06-adultsUser60', 'haha', 'lolol', '(((((((((( 11-06-adultsUser105 ))))))))))', 'lol', 'wOOt wOOt!!!', 'lol', 'lol', 'ck', 'LOL 11-06-adultsUser105.... wahoooooooo', 'teehee', 'ha', '^_^', 'LOL', \"yawn'\", 'lol', 'damn', ' :-) ', 'pa here 11-06-adultsUser103', 'nj here 11-06-adultsUser35', 'lol 11-06-adultsUser5', 'lol', 'lol', 'bwahahahahahahahahahaha', 'lmao 11-06-adultsUser105', 'Lol', 'lmao', 'lol 11-06-adultsUser105', ':O', '11-06-adultsUser29!!! :-@ ', 'LMAO damn it 11-06-adultsUser105! ', 'lmao 11-06-adultsUser42', 'o.O', '(((((((((((( 11-06-adultsUser58 ))))))))))))) <3', 'lol', '[[[[[[[[[[[[[[[[[[ 11-06-adultsUser37 ]]]]]]]]]]]]]]]]]]]]]', 'omg', 'lmao', 'lol', 'grrr', 'grrr', '=(', 'lmao 11-06-adultsUser53', '=(', 'lol', 'lmao 11-06-adultsUser53', ':-o', 'Lol', 'lol', '11-06-adultsUser115 omg', '11-06-adultsUser105 omggg', 'lol', 'gaspppp', 'LOL', ' -( ', 'hugsss:)', 'heh', 'lol', 'lol', 'aw thanks11-06-adultsUser105:)', 'YaY!', 'o.O', '11-06-adultsUser60 <3333333333333333', '11-06-adultsUser105 <33333333333333333', 'haha', ':P', ':)', 'lol 11-06-adultsUser115', ':)', 'ugh', 'lmao 11-06-adultsUser69', '(((( Paul ))))', 'lol 11-06-adultsUser69', '(((((11-06-adultsUser25))))', ':O', 'lol', 'lol', 'lol', 'lmao 11-08-20sUser18', 'lol', 'lol', 'lol', 'LOL', ' :tongue: ', 'muhaha', 'lol', 'lol', 'lol', 'lol 11-08-20sUser90', ':p', ' :-) ', 'lol', 'lol', 'lmaoo 11-08-20sUser54!!!', 'lol', 'lol 11-08-20sUser110 youre crazy', 'lol', 'lmao', 'lmao', 'heheh', 'oooOOOOoooo', 'lol', 'lol@sesky', ' ;-) ', 'lol', 'lmao', ' :tongue: ', 'awwwwwwwwww', 'AHAHH', 'lol', 'lmao 11-08-20sUser104!!!', 'lol', 'lmaoo', 'webcam.. woot woot', 'OMG', 'lol 11-08-20sUser21', 'heeheeheeheeheehee', ' :tongue: ', 'HAHAHA', 'LOL', 'hahahahahaha', ':-@', 'haha', ' :-( ', 'lol ask her', 'lol', 'LOL', 'hohohohhohhoo', 'ha!', ':-o', 'lol', 'lol', 'lol @ cool', 'lol', ':-@', 'lmao 11-08-20sUser21', 'lol', 'haha 11-08-20sUser21', 'wow.. LOL', 'hahahaHA', 'lol', 'eww eeww eeewwwwww', 'mmmm', 'LOL', 'haha', 'lmaooo 11-08-20sUser70!!!!!!!!!', 'LOL', 'haha', 'LOL', 'LOL 11-08-20sUser91.. ;)', 'lmaooo', ';-)', 'lol', 'LOL', 'lol', 'lol', 'raarrrrrr', 'lol', 'lol 11-08-20sUser65. ', 'LMAO', 'o geez', 'jajajaaa', 'lol', 'lol', 'hahaha', 'mwahhs 11-08-20sUser69', 'lol', 'lol', 'lol 11-08-20sUser65!!!!', 'lol', 'lmaooo 11-08-20sUser69!!!!!!!!!!!!!', 'lmao', 'lol 11-08-20sUser21 ', 'OMG', 'lol', 'omg', 'awww sad', 'lol 11-08-20sUser69!!!!!!!!!!', 'damn', 'lol', 'aww ', ':)', ';)', ':)', 'lol', 'mwahhss', ' :tongue: ', 'lol', 'hahaaa', 'lmao 11-08-20sUser21', 'lol 11-08-20sUser91!!!', 'lmaooooo', 'LOL', ';)', 'AHAHHA', 'stop it lol', 'lol', 'uh o', 'lol 11-08-20sUser65', 'AHHAH 11-08-20sUser21', 'lol', 'lol 11-08-20sUser54', 'LOL', 'hahaha', 'lol', 'I am laughing so hard', 'lol', 'lol', 'aw', 'o shit', 'lol', 'LMAO 11-08-20sUser91', 'LOL', 'lol11-08-40sUser2', '(((((11-08-40sUser19))))', 'lol...11-08-40sUser18', 'lol ', ':)', 'lol', 'lol', '11-08-40sUser36 hugsss', '11-08-40sUser25!!   lol', 'lol 11-08-40sUser38', '11-08-40sUser40 muahsssssssssssssssssss', '11-08-40sUser48....hugs hun', '(((((((((((((((hey yall)))))))))))))', ' (((((((((((((11-08-40sUser7)))))))))', ' (((((((((((11-08-40sUser24)))))))))', 'lol 11-08-40sUser6', 'lol  ty 11-08-40sUser6', 'lol 11-08-40sUser48', 'lol 11-08-40sUser48', 'lol', ' hugzzzzzzz', 'lol', 'lol', 'lol...', 'jimmy hendrix', 'lol', 'lol', 'lol', 'LOl 11-08-40sUser62...', 'lol....', '11-08-40sUser58 LOL', 'lol 11-08-40sUser18', 'lol', 'red headed stranger', '(((((((((((((((((((((((11-08-40sUser66)))))))))))))))', ' (((((((((((((((((((((((((11-08-40sUser65))))))))))))', 'lol 11-08-40sUser66', 'lol', 'lol 11-08-40sUser7', 'lol', 'lol', 'lol', 'lmao', 'lol', ' (((((((((((((((11-08-40sUser73))))))))))))))', '((((((11-08-40sUser48!)))))))))))', 'lol 11-08-40sUser61', 'lol', ' hehe', 'lol', 'lol', 'ugh', ' heheh 11-08-40sUser66', 'lol 11-08-40sUser65', 'lol 11-08-40sUser7', 'lol', 'ha just kidding', 'holy crap!', 'LOL HEY!', 'lol 11-08-adultsUser65', 'haha', 'mwahs 11-08-adultsUser35', 'lmao 11-08-adultsUser3', 'lmao 11-08-adultsUser3', 'awww 11-08-adultsUser92 *blush*', 'lol 11-08-adultsUser3', 'moans for no reason', 'lol', 'LMAO @ 11-08-adultsUser65 ', 'lol hi 11-08-adultsUser65', 'lol 11-08-adultsUser65', 'LMAO 11-08-adultsUser65 change it to wee 11-08-adultsUser65 LOL', 'hahah!', 'LMAO 11-08-adultsUser65 ', 'oh lord..', '((((((((( 11-08-adultsUser3)))))))', 'lol', 'lol', 'lol', 'haha!', 'lol', 'omg', 'lmfao mike', 'yawns', 'lol', 'LOL 11-08-adultsUser95 ', 'LOL 11-08-adultsUser65 ', 'lmao 11-08-adultsUser65', 'LMAO 11-08-adultsUser53', ' lol@lucifuge', 'lol', 'LMAO 11-08-adultsUser65 ', 'ugh.', ':P', 'lol', 'lmao', 'woooohoooo', 'ahhhhhhhhhhhhhh', 'lol 11-08-adultsUser95', '(((((((((((11-08-adultsUser3)))))))))))))', 'lol', 'hahaha 11-08-adultsUser28!', 'haha', '((((11-08-adultsUser3)))))', 'hahahahahahaha', 'hahaha', 'damn...', 'hahahahahahahahahahahahahahahaha', 'damn', 'haha', 'yawn...', 'haha', 'haha', '   ;-) ', 'haha', 'hehehe yay', 'lol', 'wow ', 'damn', 'haha', '-_-', 'hehehe fart', 'hahaha', 'Lol', 'damn...', 'lol', 'lol', 'lol', 'lol', '=/', 'haha', 'damn', 'lol', 'slam', 'jesus H christ', 'damn!', 'haha', 'haha', 'yay!', 'eeeeeeeeewwwwwwww', 'haha', 'lol', 'damn', 'waaa!', 'haha', 'haha', 'lol', 'ldskdlsf', 'haha', 'sldfjlsdf', 'sdlfkjsj', ':)', 'wooo', 'yes!', 'wooo', 'lol', 'yay!', 'slkfjsldkfjs', 'haha', 'Ha.', 'aaaaaaaaaaaaaaaaa!', 'raaaaaaaaaaaaaaaaaaaaaaaaaaaaa', 'weeeeeeeeeeeeeeee!', 'yawn..', 'LoL', 'lmao', 'Aww', 'LOL', 'LoL', 'LOL', 'lol', 'LoL', 'lmao', 'lol', 'lol', ':)', 'LOL', 'West Little Rock, Arkansas here', 'LMAO', 'LoL 11-09-20sUser89.', 'LoL 11-09-20sUser34!', 'lol', 'LOL', 'lmao ', '11-09-20sUser34 we should hook up!', 'lmao', 'LOL shhhh', 'lick me  you fool  lol  ', 'heyyy 11-09-20sUser168', 'lol 11-09-20sUser156', 'lol', 'o0', ';)', 'o0', 'lol', 'double o0', '0o', '0o', 'haha', 'lol', 'lol', 'lol', 'Lol 11-09-20sUser87', 'lol', 'lol', 'awwwwww', 'lol 11-09-40sUser8', 'hah 11-09-40sUser18', 'lol 11-09-40sUser18', 'hahahaa 11-09-40sUser18', 'giggles', 'lol', 'laffs', 'lmao 11-09-40sUser18', 'hahaha 11-09-40sUser4', 'lol', '(((((((((( 11-09-40sUser34 )))))))))))))', 'lmao 11-09-40sUser18', 'lol', 'hehehehe', ':)', 'lol', 'haha 11-09-40sUser31 ', 'omg 11-09-40sUser31', 'lol', 'lol', 'lol', 'ohwa. lol', 'lol 11-09-40sUser18 ', 'lol ', 'omg 11-09-40sUser30 yummy', 'lol', 'lol', 'i might  have yours 11-09-40sUser7..i always have extras', 'lol 11-09-40sUser31  ', 'lol 11-09-40sUser31', 'laffs 11-09-40sUser31', 'lol', 'lol', 'lol 11-09-40sUser31', 'laffs 11-09-40sUser30', 'haha 11-09-40sUser7', ':-)', 'lol', 'lol 11-09-40sUser7', 'ahhh ....bummer ;-(', 'LMAO 11-09-40sUser7', 'blech 11-09-40sUser39', 'laffs 11-09-40sUser7', 'lol 11-09-40sUser18', 'lol', 'lol to 11-09-40sUser19', 'hah 11-09-40sUser18', 'lol 11-09-40sUser22', 'lol back', 'haha 11-09-40sUser18', 'lol 11-09-40sUser18', 'lol 11-09-40sUser30', 'LOL 11-09-40sUser30', 'he must be stick and tired ;)', 'rofl 11-09-40sUser48!!!!', ';) 11-09-40sUser18!!!', 'lol 11-09-40sUser48', 'giggles', 'doing great here 11-09-40sUser49', 'lol', 'lol', 'lmao 11-09-40sUser48', 'giggling', ':)', 'rofl 11-09-40sUser49', 'hahaha 11-09-40sUser18', 'giggles', 'lol 11-09-40sUser48', 'lol 11-09-40sUser52', 'has no clue what the elevation is here', 'lol', 'lol', 'lmao 11-09-40sUser49', 'hahaah11-09-40sUser48', 'lol 11-09-40sUser48...', 'lol @ sea monsters', 'lol', 'ROFL 11-09-40sUser18', 'hahah 11-09-40sUser3', 'lol 11-09-40sUser18', 'wow 11-09-40sUser49', 'lol 11-09-40sUser56', 'lol', 'lol', 'LOL', 'lmao 11-09-40sUser48', 'lol', ' lol ', \"lol 11-09-adultsUser24 there's always yucky construction around here\", 'lmao', 'lol\\\\', 'lol', 'lol 11-09-adultsUser22', 'haha', 'lol 11-09-adultsUser44', 'lol', 'haha', 'lol', 'lol', 'lol 11-09-adultsUser0', 'pppppppppppew!!!!!', 'lol', 'mwahs 11-09-adultsUser72', 'psh', 'lol wth', 'lol', 'lol', 'lmao', 'from hot wheels', 'lmao', 'lol', 'lol', 'LOL', 'LOL', 'lol', 'lol', 'lol', 'hehe', 'lol', 'lol', 'lol', 'hehehe', 'ah ha', 'lol', 'lol', 'lol', 'lol', ':P', 'ty :)', 'lol', 'hahahah', 'hahaha', ';p', 'oh my lol', 'lol', 'omg', 'omg', 'omg', 'omg', 'Holy crap', 'lol', 'LOL 11-09-adultsUser22', 'lol', 'hahahaha!!!!!!', 'lol', 'lol', 'that sucks hon', ':(', 'LMAO', ' :p', 'lol', 'ahhahahaha!!!!', 'awww', 'LOL!!', 'lol', 'lol', 'lol', 'lol', 'lol', ':|', 'dsklgjsdk.', 'hgfhgfjgf', 'o<|=D', ' dsklgjsdk.', 'fkajslf', 'qwertyuiop', 'o.o', 'lawl', '18 M here, GIRLS PM ME', 'LoL', '=(', 'DAMN', 'you both have the same charge', 'wheeeeeeeeeeeeeeeeeeeeeeeeeeeeeeeeee', '=/', 'lol', 'Lmao.', 'lol', 'maybe I should become the her', 'Lol.', 'Hahaaaa.', 'lmao', 'o_O', \"e'wjfghky\", 'xD', 'LoL', 'Daniel<3', '=p', 'Marlaya<333333333!!!!!', '11-09-teensUser104 <3', '11-09-teensUser104!!!!!!!<333333333', 'o.O', '=D', 'lol', 'Yarrrr.', 'Booyah.', 'Lmao.', ':D', 'You just want to humple her.', 'o.o', '11-09-teensUser197<3.', 'lol', 'lmao', 'hhehe', '11-09-teensUser34<33.', 'Heyyy. :) <33.', 'Hahhaa.']\n"
     ]
    }
   ],
   "source": [
    "emotions = []\n",
    "for post in posts:\n",
    "    if post.get('class') == \"Emotion\":\n",
    "        emo = post.text\n",
    "        emotions.append(emo)\n",
    "print('Here are the emotions from the posts:', emotions)"
   ]
  },
  {
   "cell_type": "code",
   "execution_count": null,
   "metadata": {
    "collapsed": true
   },
   "outputs": [],
   "source": [
    "# Count all the emotions\n",
    "emodic = {}\n"
   ]
  }
 ],
 "metadata": {
  "kernelspec": {
   "display_name": "Python 3",
   "language": "python",
   "name": "python3"
  },
  "language_info": {
   "codemirror_mode": {
    "name": "ipython",
    "version": 3
   },
   "file_extension": ".py",
   "mimetype": "text/x-python",
   "name": "python",
   "nbconvert_exporter": "python",
   "pygments_lexer": "ipython3",
   "version": "3.5.2"
  }
 },
 "nbformat": 4,
 "nbformat_minor": 0
}

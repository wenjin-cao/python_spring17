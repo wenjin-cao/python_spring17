{
 "cells": [
  {
   "cell_type": "markdown",
   "metadata": {},
   "source": [
    "# Question 8\n",
    "* Find out how many unusual words people speak in chat (notice: usernames should not be counted)\n",
    "* Bonus: What if I want to  count : ) , : ( all these emoticons in. (optional)"
   ]
  },
  {
   "cell_type": "code",
   "execution_count": 1,
   "metadata": {
    "collapsed": false,
    "scrolled": true
   },
   "outputs": [],
   "source": [
    "from nltk.corpus import nps_chat, words\n",
    "#words.words()"
   ]
  },
  {
   "cell_type": "code",
   "execution_count": 2,
   "metadata": {
    "collapsed": false
   },
   "outputs": [],
   "source": [
    "#print(nps_chat.raw('10-19-20s_706posts.xml'))"
   ]
  },
  {
   "cell_type": "code",
   "execution_count": 4,
   "metadata": {
    "collapsed": false
   },
   "outputs": [],
   "source": [
    "# Get the text content of the posts\n",
    "\n",
    "posts = nps_chat.xml_posts() # Get all posts content from all nps files.\n",
    "postctnt = [] # Get the text content in the posts\n",
    "for post in posts:\n",
    "    txt = post.text\n",
    "    postctnt.append(txt)\n",
    "\n",
    "postctnt_str = ' '.join(postctnt).lower()\n",
    "import re\n",
    "postctnt_words = re.sub(\"[^\\w]\", \" \", postctnt_str).split() \n",
    "postwords = set(postctnt_words) # Get all the unique words in the posts\n",
    "#print('Here are the words from ups_chat posts:', postwords)"
   ]
  },
  {
   "cell_type": "code",
   "execution_count": null,
   "metadata": {
    "collapsed": true
   },
   "outputs": [],
   "source": [
    "# Compare and put all the unusual words in a list\n",
    "\n",
    "unusualword = []\n",
    "for word in postctnt_words:\n",
    "    if word not in words.words():\n",
    "        unusualword.append(word)\n",
    "print('Here are the unusual words used in the posts:', unusualword)"
   ]
  },
  {
   "cell_type": "code",
   "execution_count": 31,
   "metadata": {
    "collapsed": false
   },
   "outputs": [],
   "source": [
    "# Get the text of the posts with attribute ' class=\"Emotion\" '\n",
    "\n",
    "emotions = []\n",
    "for post in posts:\n",
    "    if post.get('class') == \"Emotion\":\n",
    "        emo = post.text\n",
    "        emotions.append(emo)\n",
    "#print('Here are the emotions from the posts:\\n', emotions)"
   ]
  },
  {
   "cell_type": "code",
   "execution_count": 28,
   "metadata": {
    "collapsed": false
   },
   "outputs": [
    {
     "data": {
      "text/plain": [
       "{':(': 2, ':)': 35, ':-(': 1, ':-)': 10, ':-o': 5, ':P': 7}"
      ]
     },
     "execution_count": 28,
     "metadata": {},
     "output_type": "execute_result"
    }
   ],
   "source": [
    "# Count all the emotions\n",
    "emodic = {}\n",
    "emoset = set()\n",
    "for emo in emotions:\n",
    "    if ':)' in emo:\n",
    "        if ':)' in emodic:\n",
    "            emodic[':)'] += 1\n",
    "        else:\n",
    "            emodic[':)'] = 1\n",
    "    if ':(' in emo:\n",
    "        if ':(' in emodic:\n",
    "            emodic[':('] += 1\n",
    "        else:\n",
    "            emodic[':('] = 1\n",
    "    if ':P' in emo:\n",
    "        if ':P' in emodic:\n",
    "            emodic[':P'] += 1\n",
    "        else:\n",
    "            emodic[':P'] = 1\n",
    "    if ':-o' in emo:\n",
    "        if ':-o' in emodic:\n",
    "            emodic[':-o'] += 1\n",
    "        else:\n",
    "            emodic[':-o'] = 1\n",
    "    if ':-)' in emo:\n",
    "        if ':-)' in emodic:\n",
    "            emodic[':-)'] += 1\n",
    "        else:\n",
    "            emodic[':-)'] = 1\n",
    "    if ':-(' in emo:\n",
    "        if ':-(' in emodic:\n",
    "            emodic[':-('] += 1\n",
    "        else:\n",
    "            emodic[':-('] = 1\n",
    "            \n",
    "emodic\n"
   ]
  },
  {
   "cell_type": "code",
   "execution_count": null,
   "metadata": {
    "collapsed": true
   },
   "outputs": [],
   "source": []
  }
 ],
 "metadata": {
  "kernelspec": {
   "display_name": "Python 3",
   "language": "python",
   "name": "python3"
  },
  "language_info": {
   "codemirror_mode": {
    "name": "ipython",
    "version": 3
   },
   "file_extension": ".py",
   "mimetype": "text/x-python",
   "name": "python",
   "nbconvert_exporter": "python",
   "pygments_lexer": "ipython3",
   "version": "3.5.2"
  }
 },
 "nbformat": 4,
 "nbformat_minor": 0
}

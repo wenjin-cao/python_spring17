{
 "cells": [
  {
   "cell_type": "markdown",
   "metadata": {},
   "source": [
    "# Question 3\n",
    "* Under package Webtext, see what files are in it.\n",
    "* Get content in file 'pirates.txt'.\n",
    "* According to the number of lines for Jack Sparrow and Will Turner, find out who is the real leading man in this movie."
   ]
  },
  {
   "cell_type": "code",
   "execution_count": 1,
   "metadata": {
    "collapsed": false
   },
   "outputs": [
    {
     "name": "stdout",
     "output_type": "stream",
     "text": [
      "Output 1.\n",
      "\n",
      "Here are all the files under package Webtext:\n",
      " firefox.txt\n",
      "grail.txt\n",
      "overheard.txt\n",
      "pirates.txt\n",
      "singles.txt\n",
      "wine.txt\n"
     ]
    }
   ],
   "source": [
    "import nltk\n",
    "from nltk.corpus import webtext\n",
    "allfiles = webtext.fileids()\n",
    "print('Output 1.\\n\\nHere are all the files under package Webtext:\\n','\\n'.join(allfiles))"
   ]
  },
  {
   "cell_type": "code",
   "execution_count": 6,
   "metadata": {
    "collapsed": false
   },
   "outputs": [
    {
     "name": "stdout",
     "output_type": "stream",
     "text": [
      "Output 2.\n",
      "\n",
      "Here is the content in the file 'pirates.txt':\n",
      " PIRATES OF THE CARRIBEAN: DEAD MAN'S CHEST, by Ted Elliott & Terry Rossio\n",
      "[view looking straight down at rolling swells, sound of wind and thunder, then a low heartbeat]\n",
      "Scene: PORT ROYAL\n",
      "[teacups on a table in the rain]\n",
      "[sheet music on music stands in the rain]\n",
      "[bouquet of white orchids, Elizabeth sitting in the rain holding the bouquet]\n",
      "[men rowing, men on horseback, to the sound of thunder]\n",
      "[EITC logo on flag blowing in the wind]\n",
      "[many rowboats are entering the harbor]\n",
      "[Elizabeth sitting alon \n",
      "...\n"
     ]
    }
   ],
   "source": [
    "print('Output 2.\\n\\nHere is the content in the file \\'pirates.txt\\':\\n',webtext.raw('pirates.txt')[:500],'\\n...')"
   ]
  },
  {
   "cell_type": "code",
   "execution_count": 3,
   "metadata": {
    "collapsed": false
   },
   "outputs": [
    {
     "name": "stdout",
     "output_type": "stream",
     "text": [
      "Output 3.\n",
      "\n",
      "Number of lines of Jack Sparrow: 217 \n",
      "Number of lines of Will Turner 135 \n",
      "So Jack is the real leading man since he has the most lines.\n"
     ]
    }
   ],
   "source": [
    "sents_pirates = webtext.sents('pirates.txt')\n",
    "\n",
    "def count_lines_lowercase(sents):\n",
    "    num_lines_Jack = 0\n",
    "    num_lines_Will = 0\n",
    "    for line in sents:\n",
    "        if 'jacksparrow' in ''.join(line).lower():\n",
    "            num_lines_Jack += 1\n",
    "        if 'willturner' in ''.join(line).lower():\n",
    "            num_lines_Will += 1\n",
    "    return (num_lines_Jack,num_lines_Will)\n",
    "\n",
    "print('Output 3.\\n\\nNumber of lines of Jack Sparrow:',count_lines_lowercase(sents_pirates)[0],\n",
    "      '\\nNumber of lines of Will Turner',count_lines_lowercase(sents_pirates)[1],\n",
    "     '\\nSo Jack is the real leading man since he has the most lines.')\n",
    "\n"
   ]
  },
  {
   "cell_type": "code",
   "execution_count": null,
   "metadata": {
    "collapsed": true
   },
   "outputs": [],
   "source": []
  }
 ],
 "metadata": {
  "kernelspec": {
   "display_name": "Python 3",
   "language": "python",
   "name": "python3"
  },
  "language_info": {
   "codemirror_mode": {
    "name": "ipython",
    "version": 3
   },
   "file_extension": ".py",
   "mimetype": "text/x-python",
   "name": "python",
   "nbconvert_exporter": "python",
   "pygments_lexer": "ipython3",
   "version": "3.5.2"
  }
 },
 "nbformat": 4,
 "nbformat_minor": 0
}

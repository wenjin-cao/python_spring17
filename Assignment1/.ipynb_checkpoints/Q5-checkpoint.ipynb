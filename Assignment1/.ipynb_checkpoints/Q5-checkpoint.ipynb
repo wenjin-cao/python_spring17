{
 "cells": [
  {
   "cell_type": "markdown",
   "metadata": {},
   "source": [
    "# Question 5\n",
    "** Find out what are the top 5 words that Shakespeare used but we do not use in currently.\n",
    "* Take top 50 words from Shakespeare (all 3 books) and top 50 from Web_text (all the records).\n",
    "* Remove punctuation and stop words.\n",
    "* Remove the words we still use today, and get the unused list. Show the top 5 elements. "
   ]
  },
  {
   "cell_type": "code",
   "execution_count": 3,
   "metadata": {
    "collapsed": false
   },
   "outputs": [],
   "source": [
    "import nltk\n",
    "from nltk.corpus import gutenberg, webtext\n",
    "files_gutenberg = gutenberg.fileids()\n",
    "files_webtext = webtext.fileids()\n",
    "#print(files_gutenberg)\n",
    "#print(files_webtext)"
   ]
  },
  {
   "cell_type": "code",
   "execution_count": 4,
   "metadata": {
    "collapsed": false
   },
   "outputs": [],
   "source": [
    "def list_of_cleaned_words(package,file):\n",
    "    if package == 'gutenberg':\n",
    "        filewords = gutenberg.words(file)\n",
    "    elif package == 'webtext':\n",
    "        filewords = webtext.words(file)\n",
    "       \n",
    "    import string\n",
    "    from nltk.corpus import stopwords\n",
    "    \n",
    "    list_of_words = []\n",
    "    for w in filewords: # Remove the punctuation and stop words\n",
    "        if w.lower() not in string.punctuation:\n",
    "            if w.lower() not in stopwords.words('english'): # stopwords in lower case\n",
    "                list_of_words.append(w.lower())\n",
    "                \n",
    "    return list_of_words"
   ]
  },
  {
   "cell_type": "code",
   "execution_count": 5,
   "metadata": {
    "collapsed": false
   },
   "outputs": [],
   "source": [
    "# Get a list of Shakespear's words in lowercase with punctuation and stop words removed\n",
    "shakespear = list_of_cleaned_words('gutenberg','shakespeare-caesar.txt') \n",
    "shakespear.extend(list_of_cleaned_words('gutenberg','shakespeare-hamlet.txt'))\n",
    "shakespear.extend(list_of_cleaned_words('gutenberg','shakespeare-macbeth.txt'))\n",
    "#print('Shakespear, cleaned words:',shakespear)"
   ]
  },
  {
   "cell_type": "code",
   "execution_count": 6,
   "metadata": {
    "collapsed": false
   },
   "outputs": [],
   "source": [
    "# Get a list of words from web text in lowercase with punctuation and stop words removed\n",
    "currentwords = list_of_cleaned_words('webtext','firefox.txt')\n",
    "currentwords.extend(list_of_cleaned_words('webtext','grail.txt'))\n",
    "currentwords.extend(list_of_cleaned_words('webtext','overheard.txt'))\n",
    "currentwords.extend(list_of_cleaned_words('webtext','pirates.txt'))\n",
    "currentwords.extend(list_of_cleaned_words('webtext','singles.txt'))\n",
    "currentwords.extend(list_of_cleaned_words('webtext','wine.txt'))\n",
    "#print('Webtext, cleaned words:', currentwords)"
   ]
  },
  {
   "cell_type": "code",
   "execution_count": 103,
   "metadata": {
    "collapsed": false
   },
   "outputs": [],
   "source": [
    "def get_top_50(list):\n",
    "    freqdic = {}\n",
    "    for w in list:\n",
    "        if w in freqdic:\n",
    "            freqdic[w] += 1\n",
    "        else:\n",
    "            freqdic[w] = 1\n",
    "    \n",
    "    import operator\n",
    "    sort_des = sorted(freqdic.items(), key = operator.itemgetter(1),reverse = True)\n",
    "    return sort_des[:50]"
   ]
  },
  {
   "cell_type": "code",
   "execution_count": 104,
   "metadata": {
    "collapsed": false
   },
   "outputs": [
    {
     "name": "stdout",
     "output_type": "stream",
     "text": [
      "Here are the top 50 words from shakespear:\n",
      " [('haue', 448), ('ham', 337), ('thou', 312), ('shall', 300), ('lord', 293), ('come', 232), ('king', 231), ('enter', 230), ('good', 218), ('let', 217), ('thy', 202), ('caesar', 193), ('vs', 184), ('know', 176), ('thee', 174), ('would', 170), ('brutus', 162), ('like', 162), ('vpon', 162), ('bru', 153), ('well', 152), ('hath', 144), ('selfe', 143), ('man', 139), ('may', 138), ('macb', 137), ('yet', 136), ('heere', 135), ('must', 130), ('say', 130), ('tis', 129), ('th', 125), ('speake', 119), ('loue', 119), ('make', 119), ('giue', 118), ('see', 116), ('time', 115), ('sir', 114), ('night', 114), ('one', 112), ('st', 110), ('cassi', 107), ('ile', 106), ('doe', 103), ('go', 100), ('hamlet', 100), ('men', 96), ('hor', 95), ('vp', 94)]\n"
     ]
    }
   ],
   "source": [
    "shakespear_top50 = get_top_50(shakespear)  \n",
    "print(\"Here are the top 50 words from shakespear:\\n\",shakespear_top50)"
   ]
  },
  {
   "cell_type": "code",
   "execution_count": 105,
   "metadata": {
    "collapsed": false
   },
   "outputs": [
    {
     "name": "stdout",
     "output_type": "stream",
     "text": [
      "Here are the top 50 words from web text:\n",
      " [('girl', 2956), ('guy', 2751), ('1', 2261), ('2', 1709), ('like', 1696), ('...', 1542), ('man', 1075), ('know', 1025), ('woman', 998), ('yeah', 895), ('page', 887), ('firefox', 879), ('get', 869), ('new', 790), ('chick', 714), ('one', 700), ('oh', 682), ('open', 679), ('window', 670), ('good', 644), ('bookmarks', 598), ('teen', 587), ('well', 586), ('firebird', 583), ('cell', 577), ('right', 576), ('go', 564), ('work', 537), ('bar', 536), ('menu', 530), ('tab', 529), ('lady', 524), ('toolbar', 518), ('***', 498), ('boy', 488), ('want', 485), ('browser', 484), ('think', 484), ('jack', 483), ('bookmark', 482), ('old', 475), ('really', 473), ('going', 460), ('download', 442), ('url', 440), ('back', 434), ('time', 432), ('black', 422), ('manager', 420), ('little', 419)]\n"
     ]
    }
   ],
   "source": [
    "currentwords_top50 = get_top_50(currentwords)\n",
    "print(\"Here are the top 50 words from web text:\\n\",currentwords_top50)"
   ]
  },
  {
   "cell_type": "code",
   "execution_count": 108,
   "metadata": {
    "collapsed": false,
    "scrolled": true
   },
   "outputs": [
    {
     "name": "stdout",
     "output_type": "stream",
     "text": [
      "The unused list of Shakespear's top 50:\n",
      " ['haue', 'ham', 'thou', 'shall', 'lord', 'come', 'king', 'enter', 'let', 'thy', 'caesar', 'vs', 'thee', 'would', 'brutus', 'vpon', 'bru', 'hath', 'selfe', 'may', 'macb', 'yet', 'heere', 'must', 'say', 'tis', 'th', 'speake', 'loue', 'make', 'giue', 'see', 'sir', 'night', 'st', 'cassi', 'ile', 'doe', 'hamlet', 'men', 'hor', 'vp']\n"
     ]
    }
   ],
   "source": [
    "def get_used_list(l_sp,l_wt):\n",
    "    list_shakespear = []\n",
    "    list_webtext = []\n",
    "    list_shakespear_unused = []\n",
    "    \n",
    "    for w in l_sp:\n",
    "        list_shakespear.append(w[0])\n",
    "    \n",
    "    for w in l_wt:\n",
    "        list_webtext.append(w[0])\n",
    "    \n",
    "    for w in list_shakespear:\n",
    "        if w not in list_webtext:\n",
    "            list_shakespear_unused.append(w)\n",
    "            \n",
    "        \n",
    "        \n",
    "    return list_shakespear_unused\n",
    "\n",
    "outdated = get_used_list(shakespear_top50,currentwords_top50)\n",
    "print(\"The unused list of Shakespear's top 50:\\n\",outdated)"
   ]
  },
  {
   "cell_type": "code",
   "execution_count": 109,
   "metadata": {
    "collapsed": false
   },
   "outputs": [
    {
     "name": "stdout",
     "output_type": "stream",
     "text": [
      "From Shakespear's top 50 words, here are the top 5 outdated ones:\n",
      " ['haue', 'ham', 'thou', 'shall', 'lord']\n"
     ]
    }
   ],
   "source": [
    "outdated_top5 = outdated[:5]\n",
    "print('From Shakespear\\'s top 50 words, here are the top 5 outdated ones:\\n',outdated_top5)"
   ]
  },
  {
   "cell_type": "code",
   "execution_count": null,
   "metadata": {
    "collapsed": true
   },
   "outputs": [],
   "source": []
  }
 ],
 "metadata": {
  "kernelspec": {
   "display_name": "Python 3",
   "language": "python",
   "name": "python3"
  },
  "language_info": {
   "codemirror_mode": {
    "name": "ipython",
    "version": 3
   },
   "file_extension": ".py",
   "mimetype": "text/x-python",
   "name": "python",
   "nbconvert_exporter": "python",
   "pygments_lexer": "ipython3",
   "version": "3.5.2"
  }
 },
 "nbformat": 4,
 "nbformat_minor": 0
}

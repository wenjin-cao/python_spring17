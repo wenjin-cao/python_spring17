{
 "cells": [
  {
   "cell_type": "markdown",
   "metadata": {},
   "source": [
    "# Question 2\n",
    "* Under package Gutenberg get content from file 'melville-moby_dick.txt.' \n",
    "* Find out frequency of 26 characters. (Turn uppercase into lowercase and count as one character).\n",
    "* List all 26 characters in order base on their frequency. (From most frequent to least frequent)."
   ]
  },
  {
   "cell_type": "code",
   "execution_count": 9,
   "metadata": {
    "collapsed": false
   },
   "outputs": [
    {
     "name": "stdout",
     "output_type": "stream",
     "text": [
      "Output 1.\n",
      "\n",
      "Here is the content of the file:\n",
      " [Moby Dick by Herman Melville 1851]\r\n",
      "\r\n",
      "\r\n",
      "ETYMOLOGY.\r\n",
      "\r\n",
      "(Supplied by a Late Consumptive Usher to a Grammar School)\r\n",
      "\r\n",
      "The pale Usher--threadbare in coat, heart, body, and brain; I see him\r\n",
      "now.  He was ever dusting his old lexicons and grammars, with a queer\r\n",
      "handkerchief, mockingly embellished with all the gay flags of all the\r\n",
      "known nations of the world.  He loved to dust his old grammars; it\r\n",
      "somehow mildly reminded him of his mortality.\r\n",
      "\r\n",
      "\"While you take in hand to school others, and to teac \n",
      "...\n"
     ]
    }
   ],
   "source": [
    "import nltk\n",
    "from nltk.corpus import gutenberg\n",
    "melville = gutenberg.raw('melville-moby_dick.txt')\n",
    "print('Output 1.\\n\\nHere is the content of the file:\\n', melville[:500],'\\n...')"
   ]
  },
  {
   "cell_type": "code",
   "execution_count": 7,
   "metadata": {
    "collapsed": false
   },
   "outputs": [
    {
     "name": "stdout",
     "output_type": "stream",
     "text": [
      "Ouput 2.\n",
      "\n",
      "Here are the frequencies of the 26 alphabets in the file:\n",
      " {'s': 64231, 'w': 22222, 'r': 52134, 'g': 20820, 'v': 8598, 'h': 62896, 'f': 20833, 'j': 1082, 'u': 26697, 'e': 117092, 'z': 632, 'l': 42793, 'q': 1556, 'o': 69326, 'p': 17255, 'k': 8059, 'y': 16872, 'i': 65434, 'n': 65617, 'x': 1030, 'c': 22507, 'm': 23277, 'b': 16877, 'a': 77916, 'd': 38219, 't': 87996}\n"
     ]
    }
   ],
   "source": [
    "txt_melville = melville.lower()\n",
    "dic_char = {}\n",
    "for char in txt_melville:\n",
    "    if char in ['q','w','e','r','t','y','u','i','o','p','a','s','d','f','g','h','j','k','l','z','x','c','v','b','n','m']:\n",
    "        if char in dic_char:\n",
    "            dic_char[char] += 1\n",
    "        else:\n",
    "            dic_char[char] = 1\n",
    "print('Ouput 2.\\n\\nHere are the frequencies of the 26 alphabets in the file:\\n', dic_char)"
   ]
  },
  {
   "cell_type": "code",
   "execution_count": 8,
   "metadata": {
    "collapsed": false
   },
   "outputs": [
    {
     "name": "stdout",
     "output_type": "stream",
     "text": [
      "Output 3.\n",
      "\n",
      "Frequencies in descending order:\n",
      " [('e', 117092), ('t', 87996), ('a', 77916), ('o', 69326), ('n', 65617), ('i', 65434), ('s', 64231), ('h', 62896), ('r', 52134), ('l', 42793), ('d', 38219), ('u', 26697), ('m', 23277), ('c', 22507), ('w', 22222), ('f', 20833), ('g', 20820), ('p', 17255), ('b', 16877), ('y', 16872), ('v', 8598), ('k', 8059), ('q', 1556), ('j', 1082), ('x', 1030), ('z', 632)]\n"
     ]
    }
   ],
   "source": [
    "def sort_dic(dic):\n",
    "    import operator\n",
    "    sorted_dic = sorted(dic.items(),key = operator.itemgetter(1),reverse=True)\n",
    "    return sorted_dic\n",
    "\n",
    "print('Output 3.\\n\\nFrequencies in descending order:\\n',sort_dic(dic_char))"
   ]
  },
  {
   "cell_type": "code",
   "execution_count": null,
   "metadata": {
    "collapsed": true
   },
   "outputs": [],
   "source": []
  }
 ],
 "metadata": {
  "kernelspec": {
   "display_name": "Python 3",
   "language": "python",
   "name": "python3"
  },
  "language_info": {
   "codemirror_mode": {
    "name": "ipython",
    "version": 3
   },
   "file_extension": ".py",
   "mimetype": "text/x-python",
   "name": "python",
   "nbconvert_exporter": "python",
   "pygments_lexer": "ipython3",
   "version": "3.5.2"
  }
 },
 "nbformat": 4,
 "nbformat_minor": 0
}

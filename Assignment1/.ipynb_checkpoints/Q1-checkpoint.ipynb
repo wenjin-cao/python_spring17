{
 "cells": [
  {
   "cell_type": "markdown",
   "metadata": {},
   "source": [
    "# Question 1\n",
    "* Under package Gutenberg, see what files are in it.\n",
    "* Find out how many words and how many unique words in file 'austen-persuasion.txt'.\n",
    "* Calculate the frequency for each words and show the top 10 most frequent words and their frequency.(Keep the punctuation and stop words in this question)"
   ]
  },
  {
   "cell_type": "code",
   "execution_count": 2,
   "metadata": {
    "collapsed": true
   },
   "outputs": [],
   "source": [
    "import nltk\n",
    "from nltk.corpus import gutenberg"
   ]
  },
  {
   "cell_type": "code",
   "execution_count": 3,
   "metadata": {
    "collapsed": false
   },
   "outputs": [
    {
     "name": "stdout",
     "output_type": "stream",
     "text": [
      "Output 1.\n",
      "\n",
      "Here are the files in gutenberg:\n",
      " austen-emma.txt\tausten-persuasion.txt\tausten-sense.txt\tbible-kjv.txt\tblake-poems.txt\tbryant-stories.txt\tburgess-busterbrown.txt\tcarroll-alice.txt\tchesterton-ball.txt\tchesterton-brown.txt\tchesterton-thursday.txt\tedgeworth-parents.txt\tmelville-moby_dick.txt\tmilton-paradise.txt\tshakespeare-caesar.txt\tshakespeare-hamlet.txt\tshakespeare-macbeth.txt\twhitman-leaves.txt\n"
     ]
    }
   ],
   "source": [
    "all_files = gutenberg.fileids() # Get all the files from Gutenberg\n",
    "print('Output 1.\\n\\nHere are the files in gutenberg:\\n', '\\t'.join(all_files))"
   ]
  },
  {
   "cell_type": "code",
   "execution_count": 4,
   "metadata": {
    "collapsed": false
   },
   "outputs": [
    {
     "name": "stdout",
     "output_type": "stream",
     "text": [
      "Output 2.\n",
      "\n",
      "There are 98171 words in the file 'austen-persuasion.txt', and 6132 unique words.\n"
     ]
    }
   ],
   "source": [
    "words_austen = gutenberg.words('austen-persuasion.txt')\n",
    "words_austen_unique = set(gutenberg.words('austen-persuasion.txt'))\n",
    "\n",
    "def calculate_words(file):\n",
    "    number_of_words = 0\n",
    "    for word in file:\n",
    "        number_of_words += 1\n",
    "    return number_of_words\n",
    "\n",
    "print('Output 2.\\n\\nThere are', calculate_words(words_austen), 'words in the file \\'austen-persuasion.txt\\', and',\n",
    "      calculate_words(words_austen_unique), 'unique words.')"
   ]
  },
  {
   "cell_type": "code",
   "execution_count": 15,
   "metadata": {
    "collapsed": false
   },
   "outputs": [
    {
     "name": "stdout",
     "output_type": "stream",
     "text": [
      "Output 3.\n",
      "\n",
      "Here are the frequency for each words:\n",
      " [('blighted', 1), ('nonsense', 4), ('loves', 2), ('shoot', 1), ('firmness', 2), ('headache', 1), ('grow', 3), ('happy', 63), ('disapprobation', 3), ('join', 10), ('bitterness', 1), ('yield', 1), ('solitary', 4), ('rub', 1), ('investigation', 1), ('waste', 3), ('acute', 1), ('mood', 1), ('personal', 12), ('study', 2), ('imaged', 1), ('unlikely', 1), ('directing', 2), ('stolen', 1), ('expenditure', 1), ('spring', 11), ('nor', 40), ('holidays', 4), ('driven', 4), ('know', 127), ('incommoded', 1), ('listened', 16), ('remained', 12), ('official', 1), ('hardness', 1)] \n",
      "...\n"
     ]
    }
   ],
   "source": [
    "words_austen = gutenberg.words('austen-persuasion.txt')\n",
    "\n",
    "word_freq = {}\n",
    "\n",
    "def calculate_freq(file):\n",
    "    for word in file:\n",
    "        if word in word_freq:\n",
    "            word_freq[word] += 1\n",
    "        else:\n",
    "            word_freq[word] = 1\n",
    "    return word_freq\n",
    "\n",
    "def sort(dic):\n",
    "    import operator\n",
    "    sorted_dic = sorted(dic.items(),key = operator.itemgetter(1),reverse=True) # Sort the dic by the values\n",
    "    return sorted_dic # A list of tuples sorted by the second element in each tuple\n",
    "\n",
    "#from itertools import islice\n",
    "#freq_35 = list(islice(calculate_freq(words_austen), 35))\n",
    "\n",
    "freq_dict = calculate_freq(words_austen)\n",
    "freq_list = []\n",
    "for key, value in freq_dict.items(): # Convert the dic to a list of key-value tuples\n",
    "    temp = (key,value)\n",
    "    freq_list.append(temp)\n",
    "    \n",
    "print('Output 3.\\n\\nHere are the frequency for each words:\\n',freq_list[:35], '\\n...')"
   ]
  },
  {
   "cell_type": "code",
   "execution_count": 14,
   "metadata": {
    "collapsed": false
   },
   "outputs": [
    {
     "name": "stdout",
     "output_type": "stream",
     "text": [
      "Output 4.\n",
      "\n",
      "The top-10 and their frequencies:\n",
      " [(',', 6750), ('the', 3120), ('to', 2775), ('.', 2741), ('and', 2739), ('of', 2564), ('a', 1529), ('in', 1346), ('was', 1330), (';', 1290)]\n"
     ]
    }
   ],
   "source": [
    "print('Output 4.\\n\\nThe top-10 and their frequencies:\\n',sort(word_freq)[:10])"
   ]
  },
  {
   "cell_type": "code",
   "execution_count": null,
   "metadata": {
    "collapsed": true
   },
   "outputs": [],
   "source": []
  }
 ],
 "metadata": {
  "kernelspec": {
   "display_name": "Python 3",
   "language": "python",
   "name": "python3"
  },
  "language_info": {
   "codemirror_mode": {
    "name": "ipython",
    "version": 3
   },
   "file_extension": ".py",
   "mimetype": "text/x-python",
   "name": "python",
   "nbconvert_exporter": "python",
   "pygments_lexer": "ipython3",
   "version": "3.5.2"
  }
 },
 "nbformat": 4,
 "nbformat_minor": 0
}

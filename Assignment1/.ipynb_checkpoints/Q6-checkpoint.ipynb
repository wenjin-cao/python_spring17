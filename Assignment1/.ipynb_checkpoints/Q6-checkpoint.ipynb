{
 "cells": [
  {
   "cell_type": "markdown",
   "metadata": {},
   "source": [
    "# Question 6\n",
    "* Under Inaugural Address package, for every president, find out how many unique words they used in speech (just assume that President Bush means one person). "
   ]
  },
  {
   "cell_type": "code",
   "execution_count": 2,
   "metadata": {
    "collapsed": true
   },
   "outputs": [],
   "source": [
    "import nltk\n",
    "from nltk.corpus import inaugural as ina"
   ]
  },
  {
   "cell_type": "code",
   "execution_count": 4,
   "metadata": {
    "collapsed": false
   },
   "outputs": [
    {
     "name": "stdout",
     "output_type": "stream",
     "text": [
      "['1789-Washington.txt', '1793-Washington.txt', '1797-Adams.txt', '1801-Jefferson.txt', '1805-Jefferson.txt', '1809-Madison.txt', '1813-Madison.txt', '1817-Monroe.txt', '1821-Monroe.txt', '1825-Adams.txt', '1829-Jackson.txt', '1833-Jackson.txt', '1837-VanBuren.txt', '1841-Harrison.txt', '1845-Polk.txt', '1849-Taylor.txt', '1853-Pierce.txt', '1857-Buchanan.txt', '1861-Lincoln.txt', '1865-Lincoln.txt', '1869-Grant.txt', '1873-Grant.txt', '1877-Hayes.txt', '1881-Garfield.txt', '1885-Cleveland.txt', '1889-Harrison.txt', '1893-Cleveland.txt', '1897-McKinley.txt', '1901-McKinley.txt', '1905-Roosevelt.txt', '1909-Taft.txt', '1913-Wilson.txt', '1917-Wilson.txt', '1921-Harding.txt', '1925-Coolidge.txt', '1929-Hoover.txt', '1933-Roosevelt.txt', '1937-Roosevelt.txt', '1941-Roosevelt.txt', '1945-Roosevelt.txt', '1949-Truman.txt', '1953-Eisenhower.txt', '1957-Eisenhower.txt', '1961-Kennedy.txt', '1965-Johnson.txt', '1969-Nixon.txt', '1973-Nixon.txt', '1977-Carter.txt', '1981-Reagan.txt', '1985-Reagan.txt', '1989-Bush.txt', '1993-Clinton.txt', '1997-Clinton.txt', '2001-Bush.txt', '2005-Bush.txt', '2009-Obama.txt']\n"
     ]
    }
   ],
   "source": [
    "all_speeches = ina.fileids()\n",
    "print(all_speeches)"
   ]
  },
  {
   "cell_type": "code",
   "execution_count": 16,
   "metadata": {
    "collapsed": false
   },
   "outputs": [
    {
     "name": "stdout",
     "output_type": "stream",
     "text": [
      "All presidents: {'Eisenhower', 'Johnson', 'Harding', 'Coolidge', 'Harrison', 'Bush', 'Grant', 'Kennedy', 'Madison', 'Truman', 'Washington', 'Buchanan', 'Taylor', 'Wilson', 'McKinley', 'Reagan', 'Carter', 'Monroe', 'Hoover', 'Lincoln', 'Adams', 'Hayes', 'Pierce', 'VanBuren', 'Nixon', 'Jackson', 'Taft', 'Jefferson', 'Roosevelt', 'Garfield', 'Obama', 'Cleveland', 'Clinton', 'Polk'} Number: 34\n"
     ]
    }
   ],
   "source": [
    "all_presidents = set()\n",
    "list_pres = []\n",
    "for sp in all_speeches:\n",
    "    pres = sp[5:-4]\n",
    "    all_presidents.add(pres)\n",
    "    list_pres.append(pres)\n",
    "print('All presidents:', all_presidents,'Number:',len(all_presidents))"
   ]
  },
  {
   "cell_type": "code",
   "execution_count": 7,
   "metadata": {
    "collapsed": true
   },
   "outputs": [],
   "source": [
    "def find_unique_words(file):\n",
    "    words = ina.words(file)\n",
    "    unique_words = set()\n",
    "    for w in words:\n",
    "        unique_words.add(w)\n",
    "    return unique_words"
   ]
  },
  {
   "cell_type": "code",
   "execution_count": 14,
   "metadata": {
    "collapsed": false
   },
   "outputs": [
    {
     "name": "stdout",
     "output_type": "stream",
     "text": [
      "Unique words in speech of Washington: 663\n",
      "Unique words in speech of Adams: 1503\n",
      "Unique words in speech of Jefferson: 1261\n",
      "Unique words in speech of Madison: 899\n",
      "Unique words in speech of Monroe: 1781\n",
      "Unique words in speech of VanBuren: 1318\n",
      "Unique words in speech of Jackson: 846\n",
      "Unique words in speech of Harrison: 1358\n",
      "Unique words in speech of Polk: 1333\n",
      "Unique words in speech of Taylor: 499\n",
      "Unique words in speech of Pierce: 1168\n",
      "Unique words in speech of Buchanan: 948\n",
      "Unique words in speech of Lincoln: 1261\n",
      "Unique words in speech of Grant: 855\n",
      "Unique words in speech of Hayes: 832\n",
      "Unique words in speech of Garfield: 1022\n",
      "Unique words in speech of Cleveland: 1219\n",
      "Unique words in speech of McKinley: 1682\n",
      "Unique words in speech of Roosevelt: 1704\n",
      "Unique words in speech of Taft: 1439\n",
      "Unique words in speech of Wilson: 996\n",
      "Unique words in speech of Harding: 1170\n",
      "Unique words in speech of Coolidge: 1221\n",
      "Unique words in speech of Hoover: 1087\n",
      "Unique words in speech of Truman: 781\n",
      "Unique words in speech of Eisenhower: 1250\n",
      "Unique words in speech of Kennedy: 570\n",
      "Unique words in speech of Johnson: 571\n",
      "Unique words in speech of Carter: 529\n",
      "Unique words in speech of Nixon: 1037\n",
      "Unique words in speech of Obama: 938\n",
      "Unique words in speech of Reagan: 1453\n",
      "Unique words in speech of Clinton: 1138\n",
      "Unique words in speech of Bush: 1578\n"
     ]
    }
   ],
   "source": [
    "print('Unique words in speech of Washington:',len(find_unique_words('1789-Washington.txt').union(find_unique_words('1793-Washington.txt'))))\n",
    "print('Unique words in speech of Adams:',len(find_unique_words('1797-Adams.txt').union(find_unique_words('1825-Adams.txt'))))\n",
    "print('Unique words in speech of Jefferson:',len(find_unique_words('1801-Jefferson.txt').union(find_unique_words('1805-Jefferson.txt'))))\n",
    "print('Unique words in speech of Madison:',len(find_unique_words('1809-Madison.txt').union(find_unique_words('1813-Madison.txt'))))\n",
    "print('Unique words in speech of Monroe:',len(find_unique_words('1817-Monroe.txt').union(find_unique_words('1821-Monroe.txt'))))\n",
    "print('Unique words in speech of VanBuren:',len(find_unique_words('1837-VanBuren.txt')))\n",
    "print('Unique words in speech of Jackson:',len(find_unique_words('1829-Jackson.txt').union(find_unique_words('1833-Jackson.txt'))))\n",
    "print('Unique words in speech of Harrison:',len(find_unique_words('1889-Harrison.txt').union(find_unique_words('1889-Harrison.txt'))))\n",
    "print('Unique words in speech of Polk:',len(find_unique_words('1845-Polk.txt')))\n",
    "print('Unique words in speech of Taylor:',len(find_unique_words('1849-Taylor.txt')))\n",
    "print('Unique words in speech of Pierce:',len(find_unique_words('1853-Pierce.txt')))\n",
    "print('Unique words in speech of Buchanan:',len(find_unique_words('1857-Buchanan.txt')))\n",
    "print('Unique words in speech of Lincoln:',len(find_unique_words('1861-Lincoln.txt').union(find_unique_words('1865-Lincoln.txt'))))\n",
    "print('Unique words in speech of Grant:',len(find_unique_words('1869-Grant.txt').union(find_unique_words('1873-Grant.txt'))))\n",
    "print('Unique words in speech of Hayes:',len(find_unique_words('1877-Hayes.txt')))\n",
    "print('Unique words in speech of Garfield:',len(find_unique_words('1881-Garfield.txt')))\n",
    "print('Unique words in speech of Cleveland:',len(find_unique_words('1885-Cleveland.txt').union(find_unique_words('1893-Cleveland.txt'))))\n",
    "print('Unique words in speech of McKinley:',len(find_unique_words('1897-McKinley.txt').union(find_unique_words('1901-McKinley.txt'))))\n",
    "print('Unique words in speech of Roosevelt:',len(find_unique_words('1905-Roosevelt.txt').union(find_unique_words('1933-Roosevelt.txt')).union(find_unique_words('1937-Roosevelt.txt')).union(find_unique_words('1941-Roosevelt.txt')).union(find_unique_words('1945-Roosevelt.txt'))))\n",
    "print('Unique words in speech of Taft:',len(find_unique_words('1909-Taft.txt')))\n",
    "print('Unique words in speech of Wilson:',len(find_unique_words('1913-Wilson.txt').union(find_unique_words('1917-Wilson.txt'))))\n",
    "print('Unique words in speech of Harding:',len(find_unique_words('1921-Harding.txt')))\n",
    "print('Unique words in speech of Coolidge:',len(find_unique_words('1925-Coolidge.txt')))\n",
    "print('Unique words in speech of Hoover:',len(find_unique_words('1929-Hoover.txt')))\n",
    "print('Unique words in speech of Truman:',len(find_unique_words('1949-Truman.txt')))\n",
    "print('Unique words in speech of Eisenhower:',len(find_unique_words('1953-Eisenhower.txt').union(find_unique_words('1957-Eisenhower.txt'))))\n",
    "print('Unique words in speech of Kennedy:',len(find_unique_words('1961-Kennedy.txt')))\n",
    "print('Unique words in speech of Johnson:',len(find_unique_words('1965-Johnson.txt')))\n",
    "print('Unique words in speech of Carter:',len(find_unique_words('1977-Carter.txt')))\n",
    "print('Unique words in speech of Nixon:',len(find_unique_words('1969-Nixon.txt').union(find_unique_words('1973-Nixon.txt'))))\n",
    "print('Unique words in speech of Obama:',len(find_unique_words('2009-Obama.txt')))\n",
    "print('Unique words in speech of Reagan:',len(find_unique_words('1981-Reagan.txt').union(find_unique_words('1985-Reagan.txt'))))\n",
    "print('Unique words in speech of Clinton:',len(find_unique_words('1993-Clinton.txt').union(find_unique_words('1997-Clinton.txt'))))\n",
    "print('Unique words in speech of Bush:',len(find_unique_words('1989-Bush.txt').union(find_unique_words('2001-Bush.txt')).union(find_unique_words('2005-Bush.txt'))))\n"
   ]
  }
 ],
 "metadata": {
  "kernelspec": {
   "display_name": "Python 3",
   "language": "python",
   "name": "python3"
  },
  "language_info": {
   "codemirror_mode": {
    "name": "ipython",
    "version": 3
   },
   "file_extension": ".py",
   "mimetype": "text/x-python",
   "name": "python",
   "nbconvert_exporter": "python",
   "pygments_lexer": "ipython3",
   "version": "3.5.2"
  }
 },
 "nbformat": 4,
 "nbformat_minor": 0
}

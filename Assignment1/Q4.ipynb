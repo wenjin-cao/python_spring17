{
 "cells": [
  {
   "cell_type": "markdown",
   "metadata": {},
   "source": [
    "# Question 4\n",
    "* Under package nps_chat, see what files are in it.\n",
    "* Find 'user121' and see how many posts he posted in all.\n",
    "* Find out how many unique users in each age range group. "
   ]
  },
  {
   "cell_type": "code",
   "execution_count": 16,
   "metadata": {
    "collapsed": false,
    "scrolled": true
   },
   "outputs": [
    {
     "name": "stdout",
     "output_type": "stream",
     "text": [
      "Output 1.\n",
      "\n",
      "Here are the files under the package nps_chat:\n",
      " 10-19-20s_706posts.xml\t10-19-30s_705posts.xml\t10-19-40s_686posts.xml\t10-19-adults_706posts.xml\t10-24-40s_706posts.xml\t10-26-teens_706posts.xml\t11-06-adults_706posts.xml\t11-08-20s_705posts.xml\t11-08-40s_706posts.xml\t11-08-adults_705posts.xml\t11-08-teens_706posts.xml\t11-09-20s_706posts.xml\t11-09-40s_706posts.xml\t11-09-adults_706posts.xml\t11-09-teens_706posts.xml\n"
     ]
    }
   ],
   "source": [
    "import nltk\n",
    "from nltk.corpus import nps_chat\n",
    "allfiles = nps_chat.fileids()\n",
    "print('Output 1.\\n\\nHere are the files under the package nps_chat:\\n','\\t'.join(allfiles))"
   ]
  },
  {
   "cell_type": "markdown",
   "metadata": {},
   "source": [
    "### To find 'user121' and see how many posts he posted in all："
   ]
  },
  {
   "cell_type": "code",
   "execution_count": 13,
   "metadata": {
    "collapsed": false
   },
   "outputs": [],
   "source": [
    "posts = nps_chat.xml_posts()    # Get all posts content from all nps files.\n",
    "users = [] # Get all the users of the posts\n",
    "for post in posts:\n",
    "    user = post.get('user')\n",
    "    users.append(user)\n",
    "# print('List of all users:',users)"
   ]
  },
  {
   "cell_type": "code",
   "execution_count": 17,
   "metadata": {
    "collapsed": false
   },
   "outputs": [
    {
     "name": "stdout",
     "output_type": "stream",
     "text": [
      "Output 2. \n",
      "\n",
      "The number of posts from user121 is  132\n"
     ]
    }
   ],
   "source": [
    "count = ' '.join(users).count('User121')\n",
    "print(\"Output 2. \\n\\nThe number of posts from user121 is \",count)"
   ]
  },
  {
   "cell_type": "markdown",
   "metadata": {},
   "source": [
    "### To find out how many unique user in each age range group："
   ]
  },
  {
   "cell_type": "code",
   "execution_count": 18,
   "metadata": {
    "collapsed": false
   },
   "outputs": [
    {
     "name": "stdout",
     "output_type": "stream",
     "text": [
      "Output 3. \n",
      "\n",
      "Number of unique users in 20s :  162\n",
      "Number of unique users in 30s :  44\n",
      "Number of unique users in 40s :  80\n"
     ]
    }
   ],
   "source": [
    "def no_of_users(age):\n",
    "    userset = set() \n",
    "    for u in users:\n",
    "        username = u[u.find('User'):] # User name\n",
    "        agegroup = u[6:8] # Age group\n",
    "        if agegroup == age:\n",
    "            userset.add(username)\n",
    "    return len(userset)\n",
    "\n",
    "print('Output 3. \\n\\nNumber of unique users in 20s : ',no_of_users('20'))\n",
    "print('Number of unique users in 30s : ',no_of_users('30'))\n",
    "print('Number of unique users in 40s : ',no_of_users('40'))"
   ]
  },
  {
   "cell_type": "code",
   "execution_count": null,
   "metadata": {
    "collapsed": true
   },
   "outputs": [],
   "source": []
  }
 ],
 "metadata": {
  "kernelspec": {
   "display_name": "Python 3",
   "language": "python",
   "name": "python3"
  },
  "language_info": {
   "codemirror_mode": {
    "name": "ipython",
    "version": 3
   },
   "file_extension": ".py",
   "mimetype": "text/x-python",
   "name": "python",
   "nbconvert_exporter": "python",
   "pygments_lexer": "ipython3",
   "version": "3.5.2"
  }
 },
 "nbformat": 4,
 "nbformat_minor": 0
}

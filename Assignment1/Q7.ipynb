{
 "cells": [
  {
   "cell_type": "markdown",
   "metadata": {},
   "source": [
    "# Question 7\n",
    "* Use Name corpus, calculate the probability of a name being of a male or female base on the last character(s) of name."
   ]
  },
  {
   "cell_type": "code",
   "execution_count": 1,
   "metadata": {
    "collapsed": false
   },
   "outputs": [],
   "source": [
    "import nltk\n",
    "from nltk.corpus import names\n",
    "#names.fileids()"
   ]
  },
  {
   "cell_type": "code",
   "execution_count": 2,
   "metadata": {
    "collapsed": false
   },
   "outputs": [],
   "source": [
    "femalenames = names.words('female.txt')\n",
    "malenames = names.words('male.txt')\n",
    "#print('Female names:',femalenames)\n",
    "#print('Male names:',malenames)"
   ]
  },
  {
   "cell_type": "code",
   "execution_count": 3,
   "metadata": {
    "collapsed": false
   },
   "outputs": [],
   "source": [
    "def getTotalNames(char):\n",
    "    total = 0\n",
    "    for name in femalenames:\n",
    "        if name[-1:] == char:\n",
    "            total += 1\n",
    "    for name in malenames:\n",
    "        if name[-1:] == char:\n",
    "            total += 1\n",
    "    return total\n",
    "\n",
    "def getFemaleNames(char):\n",
    "    total = 0\n",
    "    for name in femalenames:\n",
    "        if name[-1:] == char:\n",
    "            total += 1\n",
    "    return total\n",
    "\n",
    "def getMaleNames(char):\n",
    "    total = 0\n",
    "    for name in malenames:\n",
    "        if name[-1:] == char:\n",
    "            total += 1\n",
    "    return total\n",
    "\n",
    "def getFemaleProbability(char):\n",
    "    if getTotalNames(char) == 0:\n",
    "        return 0\n",
    "    else:\n",
    "        return getFemaleNames(char)/getTotalNames(char)"
   ]
  },
  {
   "cell_type": "markdown",
   "metadata": {},
   "source": [
    "### Probabilities of names being female:"
   ]
  },
  {
   "cell_type": "code",
   "execution_count": 5,
   "metadata": {
    "collapsed": false
   },
   "outputs": [
    {
     "name": "stdout",
     "output_type": "stream",
     "text": [
      "If the name ends with \"a\" :  0.983906770255272\n",
      "If the name ends with \"b\" :  0.3\n",
      "If the name ends with \"c\" :  0.0\n",
      "If the name ends with \"d\" :  0.14606741573033707\n",
      "If the name ends with \"e\" :  0.7536842105263157\n",
      "If the name ends with \"f\" :  0.07407407407407407\n",
      "If the name ends with \"g\" :  0.23809523809523808\n",
      "If the name ends with \"h\" :  0.5303030303030303\n",
      "If the name ends with \"i\" :  0.8637602179836512\n",
      "If the name ends with \"j\" :  0.25\n",
      "If the name ends with \"k\" :  0.041666666666666664\n",
      "If the name ends with \"l\" :  0.4890710382513661\n",
      "If the name ends with \"m\" :  0.1566265060240964\n",
      "If the name ends with \"n\" :  0.44675925925925924\n",
      "If the name ends with \"o\" :  0.16666666666666666\n",
      "If the name ends with \"p\" :  0.1\n",
      "If the name ends with \"q\" :  0\n",
      "If the name ends with \"r\" :  0.19831223628691982\n",
      "If the name ends with \"s\" :  0.28792569659442724\n",
      "If the name ends with \"t\" :  0.29310344827586204\n",
      "If the name ends with \"u\" :  0.3333333333333333\n",
      "If the name ends with \"v\" :  0.1111111111111111\n",
      "If the name ends with \"w\" :  0.22727272727272727\n",
      "If the name ends with \"x\" :  0.5\n",
      "If the name ends with \"y\" :  0.5813366960907944\n",
      "If the name ends with \"z\" :  0.26666666666666666\n"
     ]
    }
   ],
   "source": [
    "print('If the name ends with \\\"a\\\" : ', getFemaleProbability('a' ))\n",
    "print('If the name ends with \\\"b\\\" : ', getFemaleProbability('b' ))\n",
    "print('If the name ends with \\\"c\\\" : ', getFemaleProbability('c' ))\n",
    "print('If the name ends with \\\"d\\\" : ', getFemaleProbability('d' ))\n",
    "print('If the name ends with \\\"e\\\" : ', getFemaleProbability('e' ))\n",
    "print('If the name ends with \\\"f\\\" : ', getFemaleProbability('f' ))\n",
    "print('If the name ends with \\\"g\\\" : ', getFemaleProbability('g' ))\n",
    "print('If the name ends with \\\"h\\\" : ', getFemaleProbability('h' ))\n",
    "print('If the name ends with \\\"i\\\" : ', getFemaleProbability('i' ))\n",
    "print('If the name ends with \\\"j\\\" : ', getFemaleProbability('j' ))\n",
    "print('If the name ends with \\\"k\\\" : ', getFemaleProbability('k' ))\n",
    "print('If the name ends with \\\"l\\\" : ', getFemaleProbability('l' ))\n",
    "print('If the name ends with \\\"m\\\" : ', getFemaleProbability('m' ))\n",
    "print('If the name ends with \\\"n\\\" : ', getFemaleProbability('n' ))\n",
    "print('If the name ends with \\\"o\\\" : ', getFemaleProbability('o' ))\n",
    "print('If the name ends with \\\"p\\\" : ', getFemaleProbability('p' ))\n",
    "print('If the name ends with \\\"q\\\" : ', getFemaleProbability('q' ))\n",
    "print('If the name ends with \\\"r\\\" : ', getFemaleProbability('r' ))\n",
    "print('If the name ends with \\\"s\\\" : ', getFemaleProbability('s' ))\n",
    "print('If the name ends with \\\"t\\\" : ', getFemaleProbability('t' ))\n",
    "print('If the name ends with \\\"u\\\" : ', getFemaleProbability('u' ))\n",
    "print('If the name ends with \\\"v\\\" : ', getFemaleProbability('v' ))\n",
    "print('If the name ends with \\\"w\\\" : ', getFemaleProbability('w' ))\n",
    "print('If the name ends with \\\"x\\\" : ', getFemaleProbability('x' ))\n",
    "print('If the name ends with \\\"y\\\" : ', getFemaleProbability('y' ))\n",
    "print('If the name ends with \\\"z\\\" : ', getFemaleProbability('z' ))"
   ]
  },
  {
   "cell_type": "code",
   "execution_count": null,
   "metadata": {
    "collapsed": true
   },
   "outputs": [],
   "source": []
  }
 ],
 "metadata": {
  "kernelspec": {
   "display_name": "Python 3",
   "language": "python",
   "name": "python3"
  },
  "language_info": {
   "codemirror_mode": {
    "name": "ipython",
    "version": 3
   },
   "file_extension": ".py",
   "mimetype": "text/x-python",
   "name": "python",
   "nbconvert_exporter": "python",
   "pygments_lexer": "ipython3",
   "version": "3.5.2"
  }
 },
 "nbformat": 4,
 "nbformat_minor": 0
}
